{
 "cells": [
  {
   "cell_type": "markdown",
   "id": "dec2efd9-5d9d-418a-9388-cb607a391f2d",
   "metadata": {},
   "source": [
    "# <center>BASICS OF PYTHON"
   ]
  },
  {
   "cell_type": "markdown",
   "id": "d53e9f45-ae56-42e9-aea2-1a9487321105",
   "metadata": {},
   "source": [
    "### Creating Variables"
   ]
  },
  {
   "cell_type": "markdown",
   "id": "047de06f-d79c-486b-b86a-94da4784947f",
   "metadata": {},
   "source": [
    "##### String Variables"
   ]
  },
  {
   "cell_type": "code",
   "execution_count": 4,
   "id": "b00f320a-5f6c-4d25-b6fc-7887e1bd994c",
   "metadata": {},
   "outputs": [],
   "source": [
    "My_name =\"Sandra\""
   ]
  },
  {
   "cell_type": "code",
   "execution_count": 5,
   "id": "d2da691e-f9f2-4ed8-b68e-d55aa7e35955",
   "metadata": {},
   "outputs": [
    {
     "data": {
      "text/plain": [
       "'Sandra'"
      ]
     },
     "execution_count": 5,
     "metadata": {},
     "output_type": "execute_result"
    }
   ],
   "source": [
    "My_name"
   ]
  },
  {
   "cell_type": "code",
   "execution_count": 6,
   "id": "a513ff39-7149-4557-b6a7-fd44bad97e37",
   "metadata": {},
   "outputs": [
    {
     "name": "stdout",
     "output_type": "stream",
     "text": [
      "Sandra\n"
     ]
    }
   ],
   "source": [
    "print(My_name)"
   ]
  },
  {
   "cell_type": "code",
   "execution_count": 7,
   "id": "5299a6e0-ef97-4072-aaec-b0b8452a6680",
   "metadata": {},
   "outputs": [],
   "source": [
    "x1 = 5"
   ]
  },
  {
   "cell_type": "code",
   "execution_count": 8,
   "id": "5ea781a7-a537-43a3-bb87-8ba0549c147b",
   "metadata": {},
   "outputs": [
    {
     "data": {
      "text/plain": [
       "int"
      ]
     },
     "execution_count": 8,
     "metadata": {},
     "output_type": "execute_result"
    }
   ],
   "source": [
    "type(x1)"
   ]
  },
  {
   "cell_type": "code",
   "execution_count": 9,
   "id": "3b88b6cf-0bf2-4759-bbad-c01ffe76b492",
   "metadata": {},
   "outputs": [],
   "source": [
    "x2 = 4.75"
   ]
  },
  {
   "cell_type": "code",
   "execution_count": 10,
   "id": "2c00979f-fe48-4747-942b-d18ef3fbdc69",
   "metadata": {},
   "outputs": [
    {
     "data": {
      "text/plain": [
       "float"
      ]
     },
     "execution_count": 10,
     "metadata": {},
     "output_type": "execute_result"
    }
   ],
   "source": [
    "type(x2)"
   ]
  },
  {
   "cell_type": "code",
   "execution_count": 11,
   "id": "ad99ac2f-919e-4240-bd78-91ac2a35876d",
   "metadata": {},
   "outputs": [],
   "source": [
    "Name = \"Krishna\""
   ]
  },
  {
   "cell_type": "code",
   "execution_count": 12,
   "id": "5979368a-2cb1-458a-96fc-6d7fc87706c7",
   "metadata": {},
   "outputs": [
    {
     "data": {
      "text/plain": [
       "'Krishna'"
      ]
     },
     "execution_count": 12,
     "metadata": {},
     "output_type": "execute_result"
    }
   ],
   "source": [
    "Name"
   ]
  },
  {
   "cell_type": "code",
   "execution_count": 13,
   "id": "18b188a9-0401-47c2-be42-c27ee2a6f36f",
   "metadata": {},
   "outputs": [],
   "source": [
    "x =22"
   ]
  },
  {
   "cell_type": "code",
   "execution_count": 14,
   "id": "9dee1c69-6107-46a9-bcfa-68ece293a6ed",
   "metadata": {},
   "outputs": [
    {
     "data": {
      "text/plain": [
       "22"
      ]
     },
     "execution_count": 14,
     "metadata": {},
     "output_type": "execute_result"
    }
   ],
   "source": [
    "x"
   ]
  },
  {
   "cell_type": "code",
   "execution_count": 15,
   "id": "97406220-54ed-4f1b-a3ec-946eb1692b7d",
   "metadata": {},
   "outputs": [],
   "source": [
    "y = \"Python\""
   ]
  },
  {
   "cell_type": "code",
   "execution_count": 16,
   "id": "9ac2d2ca-676c-4691-b15a-d65fa34010fd",
   "metadata": {},
   "outputs": [
    {
     "data": {
      "text/plain": [
       "'Python'"
      ]
     },
     "execution_count": 16,
     "metadata": {},
     "output_type": "execute_result"
    }
   ],
   "source": [
    "y"
   ]
  },
  {
   "cell_type": "code",
   "execution_count": 17,
   "id": "d59e93a3-112f-4fa6-b159-2ffab62df258",
   "metadata": {},
   "outputs": [
    {
     "data": {
      "text/plain": [
       "str"
      ]
     },
     "execution_count": 17,
     "metadata": {},
     "output_type": "execute_result"
    }
   ],
   "source": [
    "type (y)"
   ]
  },
  {
   "cell_type": "code",
   "execution_count": 18,
   "id": "57661777-3441-4881-afd0-81bd70c077fa",
   "metadata": {},
   "outputs": [
    {
     "name": "stdout",
     "output_type": "stream",
     "text": [
      "Python\n"
     ]
    }
   ],
   "source": [
    "print(y)"
   ]
  },
  {
   "cell_type": "code",
   "execution_count": 20,
   "id": "c3da00ad-90c4-4f26-8170-889bc1ae0844",
   "metadata": {},
   "outputs": [],
   "source": [
    "x,y,z = 'choclate','Vanilla','Strawberry'"
   ]
  },
  {
   "cell_type": "code",
   "execution_count": 21,
   "id": "6d4e37b9-9d42-4227-888b-bbe74095c3eb",
   "metadata": {},
   "outputs": [
    {
     "data": {
      "text/plain": [
       "'choclate'"
      ]
     },
     "execution_count": 21,
     "metadata": {},
     "output_type": "execute_result"
    }
   ],
   "source": [
    "x"
   ]
  },
  {
   "cell_type": "code",
   "execution_count": 22,
   "id": "22a2f65d-2fff-4a4a-9e78-f357bd1874f4",
   "metadata": {},
   "outputs": [
    {
     "data": {
      "text/plain": [
       "'Vanilla'"
      ]
     },
     "execution_count": 22,
     "metadata": {},
     "output_type": "execute_result"
    }
   ],
   "source": [
    "y"
   ]
  },
  {
   "cell_type": "code",
   "execution_count": 23,
   "id": "fb3c2fa8-f664-450f-8eff-1c81fcf5f745",
   "metadata": {},
   "outputs": [
    {
     "data": {
      "text/plain": [
       "'Strawberry'"
      ]
     },
     "execution_count": 23,
     "metadata": {},
     "output_type": "execute_result"
    }
   ],
   "source": [
    "z"
   ]
  },
  {
   "cell_type": "code",
   "execution_count": 24,
   "id": "3bf50b92-61a8-4d72-b4da-683cf09cae2f",
   "metadata": {},
   "outputs": [],
   "source": [
    "my_number = 20"
   ]
  },
  {
   "cell_type": "code",
   "execution_count": 25,
   "id": "038f45f3-940f-4523-9f92-39275d336df6",
   "metadata": {},
   "outputs": [
    {
     "data": {
      "text/plain": [
       "20"
      ]
     },
     "execution_count": 25,
     "metadata": {},
     "output_type": "execute_result"
    }
   ],
   "source": [
    "my_number"
   ]
  },
  {
   "cell_type": "code",
   "execution_count": 26,
   "id": "19c98861-9a70-4fb1-a0a0-704003f671f5",
   "metadata": {},
   "outputs": [
    {
     "data": {
      "text/plain": [
       "int"
      ]
     },
     "execution_count": 26,
     "metadata": {},
     "output_type": "execute_result"
    }
   ],
   "source": [
    "type(my_number)"
   ]
  },
  {
   "cell_type": "code",
   "execution_count": 27,
   "id": "da61a30c-46fb-4ee0-99f0-b3f7c16780c5",
   "metadata": {},
   "outputs": [],
   "source": [
    "My_group = ['Athira','Anju','Beena','Arsha']"
   ]
  },
  {
   "cell_type": "code",
   "execution_count": 28,
   "id": "3d5e072b-12b7-42f2-a903-0e8df307198e",
   "metadata": {},
   "outputs": [
    {
     "data": {
      "text/plain": [
       "['Athira', 'Anju', 'Beena', 'Arsha']"
      ]
     },
     "execution_count": 28,
     "metadata": {},
     "output_type": "execute_result"
    }
   ],
   "source": [
    "My_group"
   ]
  },
  {
   "cell_type": "code",
   "execution_count": 29,
   "id": "4f6c1dda-a70d-4c35-a8d9-0f93d366f1c6",
   "metadata": {},
   "outputs": [
    {
     "data": {
      "text/plain": [
       "list"
      ]
     },
     "execution_count": 29,
     "metadata": {},
     "output_type": "execute_result"
    }
   ],
   "source": [
    "type(My_group)"
   ]
  },
  {
   "cell_type": "code",
   "execution_count": null,
   "id": "42070657-c74a-4905-a6fe-4c05144ae563",
   "metadata": {},
   "outputs": [],
   "source": []
  }
 ],
 "metadata": {
  "kernelspec": {
   "display_name": "Python 3 (ipykernel)",
   "language": "python",
   "name": "python3"
  },
  "language_info": {
   "codemirror_mode": {
    "name": "ipython",
    "version": 3
   },
   "file_extension": ".py",
   "mimetype": "text/x-python",
   "name": "python",
   "nbconvert_exporter": "python",
   "pygments_lexer": "ipython3",
   "version": "3.11.7"
  }
 },
 "nbformat": 4,
 "nbformat_minor": 5
}
