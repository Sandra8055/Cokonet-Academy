{
 "cells": [
  {
   "cell_type": "markdown",
   "id": "dec2efd9-5d9d-418a-9388-cb607a391f2d",
   "metadata": {},
   "source": [
    "# <center>BASICS OF PYTHON"
   ]
  },
  {
   "cell_type": "markdown",
   "id": "d53e9f45-ae56-42e9-aea2-1a9487321105",
   "metadata": {},
   "source": [
    "### Creating Variables"
   ]
  },
  {
   "cell_type": "markdown",
   "id": "047de06f-d79c-486b-b86a-94da4784947f",
   "metadata": {},
   "source": [
    "##### String Variables"
   ]
  },
  {
   "cell_type": "code",
   "execution_count": 1,
   "id": "b00f320a-5f6c-4d25-b6fc-7887e1bd994c",
   "metadata": {},
   "outputs": [],
   "source": [
    "My_name = \"Sandra\""
   ]
  },
  {
   "cell_type": "code",
   "execution_count": 2,
   "id": "d2da691e-f9f2-4ed8-b68e-d55aa7e35955",
   "metadata": {},
   "outputs": [
    {
     "data": {
      "text/plain": [
       "'Sandra'"
      ]
     },
     "execution_count": 2,
     "metadata": {},
     "output_type": "execute_result"
    }
   ],
   "source": [
    "My_name"
   ]
  },
  {
   "cell_type": "code",
   "execution_count": 3,
   "id": "a513ff39-7149-4557-b6a7-fd44bad97e37",
   "metadata": {},
   "outputs": [
    {
     "name": "stdout",
     "output_type": "stream",
     "text": [
      "Sandra\n"
     ]
    }
   ],
   "source": [
    "print(My_name)"
   ]
  },
  {
   "cell_type": "code",
   "execution_count": 4,
   "id": "5299a6e0-ef97-4072-aaec-b0b8452a6680",
   "metadata": {},
   "outputs": [],
   "source": [
    "x1 = 5"
   ]
  },
  {
   "cell_type": "code",
   "execution_count": 5,
   "id": "5ea781a7-a537-43a3-bb87-8ba0549c147b",
   "metadata": {},
   "outputs": [
    {
     "data": {
      "text/plain": [
       "int"
      ]
     },
     "execution_count": 5,
     "metadata": {},
     "output_type": "execute_result"
    }
   ],
   "source": [
    "type(x1)"
   ]
  },
  {
   "cell_type": "code",
   "execution_count": 6,
   "id": "3b88b6cf-0bf2-4759-bbad-c01ffe76b492",
   "metadata": {},
   "outputs": [],
   "source": [
    "x2 = 4.75"
   ]
  },
  {
   "cell_type": "code",
   "execution_count": 7,
   "id": "2c00979f-fe48-4747-942b-d18ef3fbdc69",
   "metadata": {},
   "outputs": [
    {
     "data": {
      "text/plain": [
       "float"
      ]
     },
     "execution_count": 7,
     "metadata": {},
     "output_type": "execute_result"
    }
   ],
   "source": [
    "type(x2)"
   ]
  },
  {
   "cell_type": "code",
   "execution_count": 8,
   "id": "ad99ac2f-919e-4240-bd78-91ac2a35876d",
   "metadata": {},
   "outputs": [],
   "source": [
    "Name = \"Krishna\""
   ]
  },
  {
   "cell_type": "code",
   "execution_count": 9,
   "id": "5979368a-2cb1-458a-96fc-6d7fc87706c7",
   "metadata": {},
   "outputs": [
    {
     "data": {
      "text/plain": [
       "'Krishna'"
      ]
     },
     "execution_count": 9,
     "metadata": {},
     "output_type": "execute_result"
    }
   ],
   "source": [
    "Name"
   ]
  },
  {
   "cell_type": "code",
   "execution_count": 10,
   "id": "18b188a9-0401-47c2-be42-c27ee2a6f36f",
   "metadata": {},
   "outputs": [],
   "source": [
    "x = 22"
   ]
  },
  {
   "cell_type": "code",
   "execution_count": 11,
   "id": "9dee1c69-6107-46a9-bcfa-68ece293a6ed",
   "metadata": {},
   "outputs": [
    {
     "data": {
      "text/plain": [
       "22"
      ]
     },
     "execution_count": 11,
     "metadata": {},
     "output_type": "execute_result"
    }
   ],
   "source": [
    "x"
   ]
  },
  {
   "cell_type": "code",
   "execution_count": 12,
   "id": "97406220-54ed-4f1b-a3ec-946eb1692b7d",
   "metadata": {},
   "outputs": [],
   "source": [
    "y = \"Python\""
   ]
  },
  {
   "cell_type": "code",
   "execution_count": 13,
   "id": "9ac2d2ca-676c-4691-b15a-d65fa34010fd",
   "metadata": {},
   "outputs": [
    {
     "data": {
      "text/plain": [
       "'Python'"
      ]
     },
     "execution_count": 13,
     "metadata": {},
     "output_type": "execute_result"
    }
   ],
   "source": [
    "y"
   ]
  },
  {
   "cell_type": "code",
   "execution_count": 14,
   "id": "d59e93a3-112f-4fa6-b159-2ffab62df258",
   "metadata": {},
   "outputs": [
    {
     "data": {
      "text/plain": [
       "str"
      ]
     },
     "execution_count": 14,
     "metadata": {},
     "output_type": "execute_result"
    }
   ],
   "source": [
    "type (y)"
   ]
  },
  {
   "cell_type": "code",
   "execution_count": 15,
   "id": "57661777-3441-4881-afd0-81bd70c077fa",
   "metadata": {},
   "outputs": [
    {
     "name": "stdout",
     "output_type": "stream",
     "text": [
      "Python\n"
     ]
    }
   ],
   "source": [
    "print(y)"
   ]
  },
  {
   "cell_type": "code",
   "execution_count": 16,
   "id": "c3da00ad-90c4-4f26-8170-889bc1ae0844",
   "metadata": {},
   "outputs": [],
   "source": [
    "x,y,z = 'choclate','Vanilla','Strawberry'"
   ]
  },
  {
   "cell_type": "code",
   "execution_count": 17,
   "id": "6d4e37b9-9d42-4227-888b-bbe74095c3eb",
   "metadata": {},
   "outputs": [
    {
     "data": {
      "text/plain": [
       "'choclate'"
      ]
     },
     "execution_count": 17,
     "metadata": {},
     "output_type": "execute_result"
    }
   ],
   "source": [
    "x"
   ]
  },
  {
   "cell_type": "code",
   "execution_count": 18,
   "id": "22a2f65d-2fff-4a4a-9e78-f357bd1874f4",
   "metadata": {},
   "outputs": [
    {
     "data": {
      "text/plain": [
       "'Vanilla'"
      ]
     },
     "execution_count": 18,
     "metadata": {},
     "output_type": "execute_result"
    }
   ],
   "source": [
    "y"
   ]
  },
  {
   "cell_type": "code",
   "execution_count": 19,
   "id": "fb3c2fa8-f664-450f-8eff-1c81fcf5f745",
   "metadata": {},
   "outputs": [
    {
     "data": {
      "text/plain": [
       "'Strawberry'"
      ]
     },
     "execution_count": 19,
     "metadata": {},
     "output_type": "execute_result"
    }
   ],
   "source": [
    "z"
   ]
  },
  {
   "cell_type": "code",
   "execution_count": 20,
   "id": "3bf50b92-61a8-4d72-b4da-683cf09cae2f",
   "metadata": {},
   "outputs": [],
   "source": [
    "my_number = 20"
   ]
  },
  {
   "cell_type": "code",
   "execution_count": 21,
   "id": "038f45f3-940f-4523-9f92-39275d336df6",
   "metadata": {},
   "outputs": [
    {
     "data": {
      "text/plain": [
       "20"
      ]
     },
     "execution_count": 21,
     "metadata": {},
     "output_type": "execute_result"
    }
   ],
   "source": [
    "my_number"
   ]
  },
  {
   "cell_type": "code",
   "execution_count": 22,
   "id": "19c98861-9a70-4fb1-a0a0-704003f671f5",
   "metadata": {},
   "outputs": [
    {
     "data": {
      "text/plain": [
       "int"
      ]
     },
     "execution_count": 22,
     "metadata": {},
     "output_type": "execute_result"
    }
   ],
   "source": [
    "type(my_number)"
   ]
  },
  {
   "cell_type": "code",
   "execution_count": 23,
   "id": "da61a30c-46fb-4ee0-99f0-b3f7c16780c5",
   "metadata": {},
   "outputs": [],
   "source": [
    "My_group = ['Athira','Anju','Beena','Arsha']"
   ]
  },
  {
   "cell_type": "code",
   "execution_count": 24,
   "id": "3d5e072b-12b7-42f2-a903-0e8df307198e",
   "metadata": {},
   "outputs": [
    {
     "data": {
      "text/plain": [
       "['Athira', 'Anju', 'Beena', 'Arsha']"
      ]
     },
     "execution_count": 24,
     "metadata": {},
     "output_type": "execute_result"
    }
   ],
   "source": [
    "My_group"
   ]
  },
  {
   "cell_type": "code",
   "execution_count": 25,
   "id": "4f6c1dda-a70d-4c35-a8d9-0f93d366f1c6",
   "metadata": {},
   "outputs": [
    {
     "data": {
      "text/plain": [
       "list"
      ]
     },
     "execution_count": 25,
     "metadata": {},
     "output_type": "execute_result"
    }
   ],
   "source": [
    "type(My_group)"
   ]
  },
  {
   "cell_type": "code",
   "execution_count": 26,
   "id": "6a1f8cbd-6415-4528-9f2f-007a66c03f74",
   "metadata": {},
   "outputs": [],
   "source": [
    "My_List = [1,2,3,4,5]"
   ]
  },
  {
   "cell_type": "code",
   "execution_count": 27,
   "id": "c97c8a13-a88c-4fdd-bc31-be81bad07565",
   "metadata": {},
   "outputs": [
    {
     "data": {
      "text/plain": [
       "[1, 2, 3, 4, 5]"
      ]
     },
     "execution_count": 27,
     "metadata": {},
     "output_type": "execute_result"
    }
   ],
   "source": [
    "My_List"
   ]
  },
  {
   "cell_type": "code",
   "execution_count": 28,
   "id": "730bca47-86b6-46f5-9d49-76f494b9c538",
   "metadata": {},
   "outputs": [
    {
     "data": {
      "text/plain": [
       "list"
      ]
     },
     "execution_count": 28,
     "metadata": {},
     "output_type": "execute_result"
    }
   ],
   "source": [
    "type(My_List)"
   ]
  },
  {
   "cell_type": "code",
   "execution_count": 29,
   "id": "bcb3e388-989e-40fd-9057-12400db4d843",
   "metadata": {},
   "outputs": [],
   "source": [
    "My_Students = [ 'Athira', 'Beena' , 'Arsha', 'Anju' ]"
   ]
  },
  {
   "cell_type": "code",
   "execution_count": 30,
   "id": "13758b14-c576-44ce-bd2d-a8ff73b66de8",
   "metadata": {},
   "outputs": [
    {
     "data": {
      "text/plain": [
       "['Athira', 'Beena', 'Arsha', 'Anju']"
      ]
     },
     "execution_count": 30,
     "metadata": {},
     "output_type": "execute_result"
    }
   ],
   "source": [
    "My_Students"
   ]
  },
  {
   "cell_type": "code",
   "execution_count": 31,
   "id": "ada428a9-9981-458f-99d1-e55316270467",
   "metadata": {},
   "outputs": [],
   "source": [
    "Mytuple = (1,2,3,4,5)"
   ]
  },
  {
   "cell_type": "code",
   "execution_count": 32,
   "id": "f3b1bd02-5dd9-48e5-8605-aab0cff7a97a",
   "metadata": {},
   "outputs": [
    {
     "data": {
      "text/plain": [
       "(1, 2, 3, 4, 5)"
      ]
     },
     "execution_count": 32,
     "metadata": {},
     "output_type": "execute_result"
    }
   ],
   "source": [
    "Mytuple"
   ]
  },
  {
   "cell_type": "code",
   "execution_count": 33,
   "id": "8bf8df7d-ec85-4f05-8939-9e08db87237b",
   "metadata": {},
   "outputs": [
    {
     "data": {
      "text/plain": [
       "tuple"
      ]
     },
     "execution_count": 33,
     "metadata": {},
     "output_type": "execute_result"
    }
   ],
   "source": [
    "type(Mytuple)"
   ]
  },
  {
   "cell_type": "code",
   "execution_count": 34,
   "id": "2742018a-dc3f-4928-addd-84512e9cce1f",
   "metadata": {},
   "outputs": [],
   "source": [
    "Students_tuple = ( 'Athira', 'Beena', 'Arsha', 'Anju' )"
   ]
  },
  {
   "cell_type": "code",
   "execution_count": 35,
   "id": "72505a3a-b091-4eba-b245-1853d50844b2",
   "metadata": {},
   "outputs": [
    {
     "data": {
      "text/plain": [
       "('Athira', 'Beena', 'Arsha', 'Anju')"
      ]
     },
     "execution_count": 35,
     "metadata": {},
     "output_type": "execute_result"
    }
   ],
   "source": [
    "Students_tuple"
   ]
  },
  {
   "cell_type": "code",
   "execution_count": 36,
   "id": "a8d9f31e-ed3a-430a-9744-f14c80acda32",
   "metadata": {},
   "outputs": [
    {
     "data": {
      "text/plain": [
       "tuple"
      ]
     },
     "execution_count": 36,
     "metadata": {},
     "output_type": "execute_result"
    }
   ],
   "source": [
    "type(Students_tuple)"
   ]
  },
  {
   "cell_type": "code",
   "execution_count": 37,
   "id": "447e31ee-1ee5-42db-913f-e7e15637b3e3",
   "metadata": {},
   "outputs": [],
   "source": [
    "mydictionary = {\"a\":1, \"b\":2, \"c\":3}"
   ]
  },
  {
   "cell_type": "code",
   "execution_count": 38,
   "id": "768c30cf-57e5-4526-9f93-ccdce35fd036",
   "metadata": {},
   "outputs": [
    {
     "data": {
      "text/plain": [
       "{'a': 1, 'b': 2, 'c': 3}"
      ]
     },
     "execution_count": 38,
     "metadata": {},
     "output_type": "execute_result"
    }
   ],
   "source": [
    "mydictionary"
   ]
  },
  {
   "cell_type": "code",
   "execution_count": 39,
   "id": "57d0a1d4-fbd0-478a-ae7c-d7a251c64e1d",
   "metadata": {},
   "outputs": [
    {
     "data": {
      "text/plain": [
       "dict"
      ]
     },
     "execution_count": 39,
     "metadata": {},
     "output_type": "execute_result"
    }
   ],
   "source": [
    "type(mydictionary)"
   ]
  },
  {
   "cell_type": "markdown",
   "id": "7b793b06-3304-4b0c-80de-c46d703f53bd",
   "metadata": {},
   "source": [
    "### TYPECASTING"
   ]
  },
  {
   "cell_type": "code",
   "execution_count": 40,
   "id": "91ffe042-5484-444c-981e-eadb2cf9914d",
   "metadata": {},
   "outputs": [],
   "source": [
    "Value = \"10\""
   ]
  },
  {
   "cell_type": "code",
   "execution_count": 41,
   "id": "e5ac349e-aedb-4eed-bccc-924e0b91f2db",
   "metadata": {},
   "outputs": [
    {
     "data": {
      "text/plain": [
       "'10'"
      ]
     },
     "execution_count": 41,
     "metadata": {},
     "output_type": "execute_result"
    }
   ],
   "source": [
    "Value"
   ]
  },
  {
   "cell_type": "code",
   "execution_count": 42,
   "id": "46b31c38-362d-4801-a94f-708d02311aca",
   "metadata": {},
   "outputs": [
    {
     "data": {
      "text/plain": [
       "str"
      ]
     },
     "execution_count": 42,
     "metadata": {},
     "output_type": "execute_result"
    }
   ],
   "source": [
    "type(Value)"
   ]
  },
  {
   "cell_type": "code",
   "execution_count": 43,
   "id": "c6e04992-a7c4-46b7-8739-2156be39b30c",
   "metadata": {},
   "outputs": [
    {
     "data": {
      "text/plain": [
       "10"
      ]
     },
     "execution_count": 43,
     "metadata": {},
     "output_type": "execute_result"
    }
   ],
   "source": [
    "int(Value)"
   ]
  },
  {
   "cell_type": "code",
   "execution_count": 44,
   "id": "cfd4215a-5bab-40eb-aae0-a312abeb5ee2",
   "metadata": {},
   "outputs": [],
   "source": [
    "number = int (Value)"
   ]
  },
  {
   "cell_type": "code",
   "execution_count": 45,
   "id": "02681861-a614-4030-8e80-89c22d01af42",
   "metadata": {},
   "outputs": [
    {
     "data": {
      "text/plain": [
       "10"
      ]
     },
     "execution_count": 45,
     "metadata": {},
     "output_type": "execute_result"
    }
   ],
   "source": [
    "number"
   ]
  },
  {
   "cell_type": "code",
   "execution_count": 46,
   "id": "51425273-95f0-40e8-98ee-a2e679dc6850",
   "metadata": {},
   "outputs": [
    {
     "data": {
      "text/plain": [
       "int"
      ]
     },
     "execution_count": 46,
     "metadata": {},
     "output_type": "execute_result"
    }
   ],
   "source": [
    "type(number)"
   ]
  },
  {
   "cell_type": "code",
   "execution_count": 47,
   "id": "a2aefca0-a70b-4b63-b31c-de969a053fa5",
   "metadata": {},
   "outputs": [
    {
     "data": {
      "text/plain": [
       "10.0"
      ]
     },
     "execution_count": 47,
     "metadata": {},
     "output_type": "execute_result"
    }
   ],
   "source": [
    "float(Value)"
   ]
  },
  {
   "cell_type": "code",
   "execution_count": 48,
   "id": "607efa9b-fd0f-41c3-8478-3ff273b87354",
   "metadata": {},
   "outputs": [],
   "source": [
    "number_float =float(Value)"
   ]
  },
  {
   "cell_type": "code",
   "execution_count": 49,
   "id": "1e2f6b91-37a8-4b57-b44c-55bf946b7f8a",
   "metadata": {},
   "outputs": [
    {
     "data": {
      "text/plain": [
       "10.0"
      ]
     },
     "execution_count": 49,
     "metadata": {},
     "output_type": "execute_result"
    }
   ],
   "source": [
    "number_float"
   ]
  },
  {
   "cell_type": "code",
   "execution_count": 50,
   "id": "f1b19430-28d0-4e42-af2f-0d9fc533da51",
   "metadata": {},
   "outputs": [
    {
     "data": {
      "text/plain": [
       "float"
      ]
     },
     "execution_count": 50,
     "metadata": {},
     "output_type": "execute_result"
    }
   ],
   "source": [
    "type(number_float)"
   ]
  },
  {
   "cell_type": "code",
   "execution_count": 51,
   "id": "f9eb5d96-6e61-46bc-a991-38afd288c467",
   "metadata": {},
   "outputs": [
    {
     "data": {
      "text/plain": [
       "10"
      ]
     },
     "execution_count": 51,
     "metadata": {},
     "output_type": "execute_result"
    }
   ],
   "source": [
    "int(number_float)"
   ]
  },
  {
   "cell_type": "code",
   "execution_count": 52,
   "id": "16f077a9-b09a-4464-8954-0479a94c42f7",
   "metadata": {},
   "outputs": [
    {
     "data": {
      "text/plain": [
       "10"
      ]
     },
     "execution_count": 52,
     "metadata": {},
     "output_type": "execute_result"
    }
   ],
   "source": [
    "int(10.556)"
   ]
  },
  {
   "cell_type": "markdown",
   "id": "82938bef-bbea-4fee-ae3b-997934c57c2b",
   "metadata": {},
   "source": [
    "### OPERATORS"
   ]
  },
  {
   "cell_type": "markdown",
   "id": "bd3c1c9f-860c-432e-b4a5-0fd6c8c3bb97",
   "metadata": {},
   "source": [
    "1. Arithematic operators\n",
    "2. Assignment operators\n",
    "3. Comparison opperators\n",
    "4. Logical operators\n",
    "5. Other operators"
   ]
  },
  {
   "cell_type": "markdown",
   "id": "73175297-0796-4869-baa0-aff644277eb6",
   "metadata": {},
   "source": [
    "#### Arithematic operators and Assigning operators"
   ]
  },
  {
   "cell_type": "code",
   "execution_count": 53,
   "id": "2a73928e-4a5c-47d5-b565-421af1d9e1fd",
   "metadata": {},
   "outputs": [],
   "source": [
    "A = 10"
   ]
  },
  {
   "cell_type": "code",
   "execution_count": 54,
   "id": "b7a9b9e1-891f-4837-8482-07a4c20c745d",
   "metadata": {},
   "outputs": [],
   "source": [
    "A = A + 10"
   ]
  },
  {
   "cell_type": "code",
   "execution_count": 55,
   "id": "b6387652-bf3e-4305-a633-95a85a275378",
   "metadata": {},
   "outputs": [
    {
     "data": {
      "text/plain": [
       "20"
      ]
     },
     "execution_count": 55,
     "metadata": {},
     "output_type": "execute_result"
    }
   ],
   "source": [
    "A"
   ]
  },
  {
   "cell_type": "code",
   "execution_count": 56,
   "id": "829d13de-51d2-4c21-b32d-55a4b23a14f7",
   "metadata": {},
   "outputs": [],
   "source": [
    "A = 10"
   ]
  },
  {
   "cell_type": "code",
   "execution_count": 57,
   "id": "efb1ed3a-88e8-4557-b838-210abfa9a7da",
   "metadata": {},
   "outputs": [],
   "source": [
    "A += 10"
   ]
  },
  {
   "cell_type": "code",
   "execution_count": 58,
   "id": "88809189-30c6-4e00-8b1a-6f8ca92fff45",
   "metadata": {},
   "outputs": [
    {
     "data": {
      "text/plain": [
       "20"
      ]
     },
     "execution_count": 58,
     "metadata": {},
     "output_type": "execute_result"
    }
   ],
   "source": [
    "A"
   ]
  },
  {
   "cell_type": "code",
   "execution_count": 59,
   "id": "9399c247-ef38-46f5-a568-f6dc018763ef",
   "metadata": {},
   "outputs": [],
   "source": [
    "A -= 10"
   ]
  },
  {
   "cell_type": "code",
   "execution_count": 60,
   "id": "444e7880-31cf-4cfc-b1df-10c75ac9ba7a",
   "metadata": {},
   "outputs": [
    {
     "data": {
      "text/plain": [
       "10"
      ]
     },
     "execution_count": 60,
     "metadata": {},
     "output_type": "execute_result"
    }
   ],
   "source": [
    "A"
   ]
  },
  {
   "cell_type": "code",
   "execution_count": 61,
   "id": "bf49bbc4-88d1-4000-a372-d701e4afe2f6",
   "metadata": {},
   "outputs": [],
   "source": [
    "A /= 5"
   ]
  },
  {
   "cell_type": "code",
   "execution_count": 62,
   "id": "fff73dcb-ecd6-4311-83ab-8847103cf337",
   "metadata": {},
   "outputs": [
    {
     "data": {
      "text/plain": [
       "2.0"
      ]
     },
     "execution_count": 62,
     "metadata": {},
     "output_type": "execute_result"
    }
   ],
   "source": [
    "A"
   ]
  },
  {
   "cell_type": "code",
   "execution_count": 63,
   "id": "0bcf68bf-ac1a-449b-bef2-966075b71589",
   "metadata": {},
   "outputs": [],
   "source": [
    "A %= 10"
   ]
  },
  {
   "cell_type": "code",
   "execution_count": 64,
   "id": "efba38a3-5d7b-47e3-920d-22f8462720fb",
   "metadata": {},
   "outputs": [
    {
     "data": {
      "text/plain": [
       "2.0"
      ]
     },
     "execution_count": 64,
     "metadata": {},
     "output_type": "execute_result"
    }
   ],
   "source": [
    "A"
   ]
  },
  {
   "cell_type": "code",
   "execution_count": 65,
   "id": "bab7e476-15f4-4371-a02a-bdade8538bd4",
   "metadata": {},
   "outputs": [],
   "source": [
    "B = 2"
   ]
  },
  {
   "cell_type": "code",
   "execution_count": 66,
   "id": "87f85685-9cb8-481f-b443-f46e4a622496",
   "metadata": {},
   "outputs": [],
   "source": [
    "B **= 2"
   ]
  },
  {
   "cell_type": "code",
   "execution_count": 67,
   "id": "6a0e18b8-3908-4abf-9cfa-1ab6128baeda",
   "metadata": {},
   "outputs": [
    {
     "data": {
      "text/plain": [
       "4"
      ]
     },
     "execution_count": 67,
     "metadata": {},
     "output_type": "execute_result"
    }
   ],
   "source": [
    "B"
   ]
  },
  {
   "cell_type": "code",
   "execution_count": 68,
   "id": "065bce4b-75cd-4795-a231-1398af377805",
   "metadata": {},
   "outputs": [],
   "source": [
    "C = 104"
   ]
  },
  {
   "cell_type": "code",
   "execution_count": 69,
   "id": "9a483147-3f4b-4684-927a-8dc24b1b1c38",
   "metadata": {},
   "outputs": [
    {
     "data": {
      "text/plain": [
       "34.666666666666664"
      ]
     },
     "execution_count": 69,
     "metadata": {},
     "output_type": "execute_result"
    }
   ],
   "source": [
    "C/3"
   ]
  },
  {
   "cell_type": "code",
   "execution_count": 70,
   "id": "be61403d-25f5-48f0-8da1-df9ed53af726",
   "metadata": {},
   "outputs": [],
   "source": [
    "C //= 3"
   ]
  },
  {
   "cell_type": "code",
   "execution_count": 71,
   "id": "971e21a6-4c79-44d0-befc-758149516181",
   "metadata": {},
   "outputs": [
    {
     "data": {
      "text/plain": [
       "34"
      ]
     },
     "execution_count": 71,
     "metadata": {},
     "output_type": "execute_result"
    }
   ],
   "source": [
    "C"
   ]
  },
  {
   "cell_type": "markdown",
   "id": "21a4641d-51a0-405c-baf8-4c1314fa20a5",
   "metadata": {},
   "source": [
    "#### Comparison Operators"
   ]
  },
  {
   "cell_type": "code",
   "execution_count": 72,
   "id": "65735dd7-7b9a-4f47-b291-30a1f6202e6e",
   "metadata": {},
   "outputs": [],
   "source": [
    "A = 10\n",
    "B = 10"
   ]
  },
  {
   "cell_type": "code",
   "execution_count": 73,
   "id": "dc29b01a-56b2-443b-80a2-2ac99633a189",
   "metadata": {},
   "outputs": [
    {
     "data": {
      "text/plain": [
       "True"
      ]
     },
     "execution_count": 73,
     "metadata": {},
     "output_type": "execute_result"
    }
   ],
   "source": [
    "A == B"
   ]
  },
  {
   "cell_type": "code",
   "execution_count": 74,
   "id": "3641d816-e02d-4eef-9112-0baf2ede3c42",
   "metadata": {},
   "outputs": [
    {
     "data": {
      "text/plain": [
       "False"
      ]
     },
     "execution_count": 74,
     "metadata": {},
     "output_type": "execute_result"
    }
   ],
   "source": [
    "A != B"
   ]
  },
  {
   "cell_type": "code",
   "execution_count": 75,
   "id": "42bb7cc9-a49e-4a80-8ad3-221394d345d1",
   "metadata": {},
   "outputs": [],
   "source": [
    "C = 20"
   ]
  },
  {
   "cell_type": "code",
   "execution_count": 76,
   "id": "8be30e13-9339-4b2e-aabc-9487bf4a95e1",
   "metadata": {},
   "outputs": [
    {
     "data": {
      "text/plain": [
       "True"
      ]
     },
     "execution_count": 76,
     "metadata": {},
     "output_type": "execute_result"
    }
   ],
   "source": [
    "C > B"
   ]
  },
  {
   "cell_type": "code",
   "execution_count": 77,
   "id": "3b596d54-c65d-4b14-be17-c271c786d7f0",
   "metadata": {},
   "outputs": [
    {
     "data": {
      "text/plain": [
       "False"
      ]
     },
     "execution_count": 77,
     "metadata": {},
     "output_type": "execute_result"
    }
   ],
   "source": [
    "C < B"
   ]
  },
  {
   "cell_type": "code",
   "execution_count": 78,
   "id": "97a1aa11-e97e-4b9b-a965-6f3e341bc3d7",
   "metadata": {},
   "outputs": [
    {
     "data": {
      "text/plain": [
       "True"
      ]
     },
     "execution_count": 78,
     "metadata": {},
     "output_type": "execute_result"
    }
   ],
   "source": [
    "C >= B"
   ]
  },
  {
   "cell_type": "code",
   "execution_count": 79,
   "id": "ea5271ca-b988-4c02-bc8b-7254c7ce5046",
   "metadata": {},
   "outputs": [
    {
     "data": {
      "text/plain": [
       "False"
      ]
     },
     "execution_count": 79,
     "metadata": {},
     "output_type": "execute_result"
    }
   ],
   "source": [
    "C <= B"
   ]
  },
  {
   "cell_type": "markdown",
   "id": "50ad4489-d203-4626-b813-33af9c6fd51f",
   "metadata": {},
   "source": [
    "#### Logical Operators"
   ]
  },
  {
   "cell_type": "markdown",
   "id": "6cb3f0a1-a2ea-4e27-97df-7c450dd740be",
   "metadata": {},
   "source": [
    "#### USER INPUT"
   ]
  },
  {
   "cell_type": "markdown",
   "id": "e69f3f8f-7760-4db5-8197-5a604d882d00",
   "metadata": {},
   "source": [
    "#### INPUT FUNCTION"
   ]
  },
  {
   "cell_type": "code",
   "execution_count": 80,
   "id": "d2fbfd84-b696-4282-8b25-ee0f50ea197c",
   "metadata": {},
   "outputs": [
    {
     "name": "stdin",
     "output_type": "stream",
     "text": [
      "How are you?: 8\n"
     ]
    },
    {
     "data": {
      "text/plain": [
       "'8'"
      ]
     },
     "execution_count": 80,
     "metadata": {},
     "output_type": "execute_result"
    }
   ],
   "source": [
    "input(\"How are you?:\")"
   ]
  },
  {
   "cell_type": "code",
   "execution_count": 81,
   "id": "af90ee4e-92d6-4c00-aa29-30251a8d424b",
   "metadata": {},
   "outputs": [
    {
     "name": "stdin",
     "output_type": "stream",
     "text": [
      "Please enter your name: 10\n"
     ]
    }
   ],
   "source": [
    "name = input (\"Please enter your name:\")"
   ]
  },
  {
   "cell_type": "code",
   "execution_count": 82,
   "id": "8b0b850d-47ac-4d16-b9fc-296eacbe8087",
   "metadata": {},
   "outputs": [
    {
     "data": {
      "text/plain": [
       "'10'"
      ]
     },
     "execution_count": 82,
     "metadata": {},
     "output_type": "execute_result"
    }
   ],
   "source": [
    "name"
   ]
  },
  {
   "cell_type": "code",
   "execution_count": 83,
   "id": "290cb892-4cb8-4749-a3dd-d2ecd37dc8b1",
   "metadata": {},
   "outputs": [
    {
     "data": {
      "text/plain": [
       "str"
      ]
     },
     "execution_count": 83,
     "metadata": {},
     "output_type": "execute_result"
    }
   ],
   "source": [
    "type(name)"
   ]
  },
  {
   "cell_type": "markdown",
   "id": "f1d8afad-8587-4bf5-9e8b-4db0d4d1a935",
   "metadata": {},
   "source": [
    "#### WAP TO ADD 2 USER DEFINED NUMBERS"
   ]
  },
  {
   "cell_type": "code",
   "execution_count": 84,
   "id": "f1304ccf-db1a-494c-b5f3-9343a7b3fddf",
   "metadata": {},
   "outputs": [
    {
     "name": "stdin",
     "output_type": "stream",
     "text": [
      "Enter first number:  8\n"
     ]
    }
   ],
   "source": [
    "number1 = input (\"Enter first number: \")"
   ]
  },
  {
   "cell_type": "code",
   "execution_count": 85,
   "id": "a17d15ab-3e11-4df6-a7e1-829f65f11e52",
   "metadata": {},
   "outputs": [
    {
     "name": "stdin",
     "output_type": "stream",
     "text": [
      "Enter second number:  9\n"
     ]
    }
   ],
   "source": [
    "number2 = input (\"Enter second number: \")"
   ]
  },
  {
   "cell_type": "code",
   "execution_count": 86,
   "id": "e9851b66-70d0-4d85-a4bd-b0a1792bfc82",
   "metadata": {},
   "outputs": [],
   "source": [
    "Sum = number1 + number2"
   ]
  },
  {
   "cell_type": "code",
   "execution_count": 87,
   "id": "19524408-9cf8-4c1b-bde3-6a4125ca0d43",
   "metadata": {},
   "outputs": [
    {
     "name": "stdout",
     "output_type": "stream",
     "text": [
      "Result:  89\n"
     ]
    }
   ],
   "source": [
    "print ( \"Result: \", Sum)"
   ]
  },
  {
   "cell_type": "code",
   "execution_count": 88,
   "id": "272aab8c-6ab0-4352-8dba-ebed69b581ee",
   "metadata": {},
   "outputs": [
    {
     "data": {
      "text/plain": [
       "str"
      ]
     },
     "execution_count": 88,
     "metadata": {},
     "output_type": "execute_result"
    }
   ],
   "source": [
    "type(number1)"
   ]
  },
  {
   "cell_type": "code",
   "execution_count": 89,
   "id": "b4fe50dc-89b4-41d2-9d17-296fcead5309",
   "metadata": {},
   "outputs": [
    {
     "data": {
      "text/plain": [
       "str"
      ]
     },
     "execution_count": 89,
     "metadata": {},
     "output_type": "execute_result"
    }
   ],
   "source": [
    "type(number2)"
   ]
  },
  {
   "cell_type": "markdown",
   "id": "f8d2d2cb-3680-481e-b709-a5057fe3b6ee",
   "metadata": {},
   "source": [
    "#### Correct way"
   ]
  },
  {
   "cell_type": "code",
   "execution_count": 90,
   "id": "775781b7-64a8-4b23-ba79-c4ce1ab24b6b",
   "metadata": {},
   "outputs": [
    {
     "name": "stdin",
     "output_type": "stream",
     "text": [
      "Enter first nummber: 8\n"
     ]
    }
   ],
   "source": [
    "number1 = input ( \"Enter first nummber:\" )"
   ]
  },
  {
   "cell_type": "code",
   "execution_count": 91,
   "id": "33faab57-71af-45d1-8bcd-7067dd297bff",
   "metadata": {},
   "outputs": [
    {
     "name": "stdin",
     "output_type": "stream",
     "text": [
      "Enter second nummber: 5\n"
     ]
    }
   ],
   "source": [
    "number2 = input ( \"Enter second nummber:\" )"
   ]
  },
  {
   "cell_type": "code",
   "execution_count": 92,
   "id": "f99a0357-a435-410a-8758-6fd7ebd2d6f0",
   "metadata": {},
   "outputs": [],
   "source": [
    "number1 = int (number1)"
   ]
  },
  {
   "cell_type": "code",
   "execution_count": 93,
   "id": "59a476b5-34e9-4532-8f67-01899c5f619c",
   "metadata": {},
   "outputs": [],
   "source": [
    "number2 = int (number2)"
   ]
  },
  {
   "cell_type": "code",
   "execution_count": 94,
   "id": "830cc43d-4137-4559-8409-1aac1e3fdf49",
   "metadata": {},
   "outputs": [
    {
     "data": {
      "text/plain": [
       "int"
      ]
     },
     "execution_count": 94,
     "metadata": {},
     "output_type": "execute_result"
    }
   ],
   "source": [
    "type(number1)"
   ]
  },
  {
   "cell_type": "code",
   "execution_count": 95,
   "id": "d7c7526d-589f-4bbd-92f6-0ee112998399",
   "metadata": {},
   "outputs": [
    {
     "data": {
      "text/plain": [
       "int"
      ]
     },
     "execution_count": 95,
     "metadata": {},
     "output_type": "execute_result"
    }
   ],
   "source": [
    "type(number2)"
   ]
  },
  {
   "cell_type": "code",
   "execution_count": 96,
   "id": "2769611d-c679-4e90-a519-31a85c7f4e3f",
   "metadata": {},
   "outputs": [],
   "source": [
    "Sum = number1 + number2"
   ]
  },
  {
   "cell_type": "code",
   "execution_count": 97,
   "id": "cb594ddc-ed1c-4e82-871a-68a79150c135",
   "metadata": {},
   "outputs": [
    {
     "name": "stdout",
     "output_type": "stream",
     "text": [
      "Result:  13\n"
     ]
    }
   ],
   "source": [
    "print ( \"Result: \" , Sum)"
   ]
  },
  {
   "cell_type": "markdown",
   "id": "c50ed199-27f7-4b0c-8ac8-58e6bf2ac089",
   "metadata": {},
   "source": [
    "#### More cooler approch"
   ]
  },
  {
   "cell_type": "code",
   "execution_count": 98,
   "id": "2cf87dc4-333c-4694-9561-164f14d24110",
   "metadata": {},
   "outputs": [
    {
     "name": "stdin",
     "output_type": "stream",
     "text": [
      "Enter first number:  5\n"
     ]
    }
   ],
   "source": [
    "number1 = int(input ( \"Enter first number: \" ))"
   ]
  },
  {
   "cell_type": "code",
   "execution_count": 99,
   "id": "3af59bcd-f701-427a-880c-2ab4b3f50102",
   "metadata": {},
   "outputs": [
    {
     "name": "stdin",
     "output_type": "stream",
     "text": [
      "Enter second number:  6\n"
     ]
    }
   ],
   "source": [
    "number2 = int(input ( \"Enter second number: \" ))"
   ]
  },
  {
   "cell_type": "code",
   "execution_count": 100,
   "id": "2c64f4a0-165d-42a1-88d7-d5dc649f8c98",
   "metadata": {},
   "outputs": [],
   "source": [
    "Sum = number1 + number2"
   ]
  },
  {
   "cell_type": "code",
   "execution_count": 101,
   "id": "165a633c-7323-47d8-97c7-586f3288c905",
   "metadata": {},
   "outputs": [
    {
     "name": "stdout",
     "output_type": "stream",
     "text": [
      "Result:  11\n"
     ]
    }
   ],
   "source": [
    "print ( \"Result: \", Sum)"
   ]
  },
  {
   "cell_type": "markdown",
   "id": "5285a909-570f-42b4-94ff-1bcd1afc951d",
   "metadata": {},
   "source": [
    "#### 1.WAP to take input from user as first name and last name and print the full name"
   ]
  },
  {
   "cell_type": "code",
   "execution_count": 102,
   "id": "831574c9-d021-4c1f-93a5-08b8ed4968b0",
   "metadata": {},
   "outputs": [
    {
     "name": "stdin",
     "output_type": "stream",
     "text": [
      "Enter first name:  Sandra\n"
     ]
    }
   ],
   "source": [
    "First_name = input(\"Enter first name: \" )"
   ]
  },
  {
   "cell_type": "code",
   "execution_count": 103,
   "id": "28c1c67f-106d-4efc-b1ab-c7d1a9166ac0",
   "metadata": {},
   "outputs": [
    {
     "name": "stdin",
     "output_type": "stream",
     "text": [
      "Enter seconmd name:  Bose\n"
     ]
    }
   ],
   "source": [
    "Second_name = input(\"Enter seconmd name: \" )"
   ]
  },
  {
   "cell_type": "code",
   "execution_count": 104,
   "id": "88afb59e-d62c-404b-9732-63073153d695",
   "metadata": {},
   "outputs": [],
   "source": [
    "Full_name = First_name + \" \" + Second_name"
   ]
  },
  {
   "cell_type": "code",
   "execution_count": 105,
   "id": "5c6b85c9-752a-474b-ac32-da3008f1ce3d",
   "metadata": {},
   "outputs": [
    {
     "data": {
      "text/plain": [
       "'Sandra Bose'"
      ]
     },
     "execution_count": 105,
     "metadata": {},
     "output_type": "execute_result"
    }
   ],
   "source": [
    "Full_name"
   ]
  },
  {
   "cell_type": "markdown",
   "id": "51764431-4828-4892-84b5-0f2c495ff132",
   "metadata": {},
   "source": [
    "#### 2.WAP to take input from user as two numbers and their product "
   ]
  },
  {
   "cell_type": "code",
   "execution_count": 106,
   "id": "dded31ca-f354-4d74-9b50-dd0b3ff41261",
   "metadata": {},
   "outputs": [
    {
     "name": "stdin",
     "output_type": "stream",
     "text": [
      "First number:  2\n"
     ]
    }
   ],
   "source": [
    "Number1 = int(input (\"First number: \"))"
   ]
  },
  {
   "cell_type": "code",
   "execution_count": 107,
   "id": "1c190721-1886-4973-8ae4-62eaa3fae809",
   "metadata": {},
   "outputs": [
    {
     "name": "stdin",
     "output_type": "stream",
     "text": [
      "Second number:  3\n"
     ]
    }
   ],
   "source": [
    "Number2 = int(input (\"Second number: \"))"
   ]
  },
  {
   "cell_type": "code",
   "execution_count": 108,
   "id": "f687bef2-91e8-42fa-ad88-50123ed0927b",
   "metadata": {},
   "outputs": [],
   "source": [
    "Product = Number1 + Number2"
   ]
  },
  {
   "cell_type": "code",
   "execution_count": 109,
   "id": "27869cdc-020c-465f-aa25-bf516e0e7265",
   "metadata": {},
   "outputs": [],
   "source": [
    "print = ( \"Result: \", Product)"
   ]
  },
  {
   "cell_type": "code",
   "execution_count": 110,
   "id": "d163123f-5b13-4524-87b9-0cb924d8e693",
   "metadata": {},
   "outputs": [
    {
     "data": {
      "text/plain": [
       "5"
      ]
     },
     "execution_count": 110,
     "metadata": {},
     "output_type": "execute_result"
    }
   ],
   "source": [
    "Product"
   ]
  },
  {
   "cell_type": "markdown",
   "id": "170481c7-0024-4e4e-ab5e-2bff39b6cb98",
   "metadata": {},
   "source": [
    "#### Conditions"
   ]
  },
  {
   "cell_type": "markdown",
   "id": "fec2bb6d-1a29-426b-a143-7082f1b8e28c",
   "metadata": {},
   "source": [
    "1. IF\n",
    "2. ELIF\n",
    "3. ELSE"
   ]
  },
  {
   "cell_type": "code",
   "execution_count": 111,
   "id": "c61ad21a-db2e-4daf-83bd-9e4362e7ed58",
   "metadata": {},
   "outputs": [
    {
     "name": "stdin",
     "output_type": "stream",
     "text": [
      "Enter a number: 15\n"
     ]
    }
   ],
   "source": [
    "number = input ( \"Enter a number:\" )"
   ]
  },
  {
   "cell_type": "code",
   "execution_count": 112,
   "id": "7dd6280a-bcd0-4a86-9b1a-01ec39614f23",
   "metadata": {},
   "outputs": [],
   "source": [
    "number = int (number)"
   ]
  },
  {
   "cell_type": "code",
   "execution_count": 113,
   "id": "c731f382-001b-47c3-aa72-f7f30d03f093",
   "metadata": {
    "scrolled": true
   },
   "outputs": [
    {
     "ename": "TypeError",
     "evalue": "'tuple' object is not callable",
     "output_type": "error",
     "traceback": [
      "\u001b[1;31m---------------------------------------------------------------------------\u001b[0m",
      "\u001b[1;31mTypeError\u001b[0m                                 Traceback (most recent call last)",
      "Cell \u001b[1;32mIn[113], line 4\u001b[0m\n\u001b[0;32m      2\u001b[0m     \u001b[38;5;28mprint\u001b[39m(\u001b[38;5;124m\"\u001b[39m\u001b[38;5;124mYour number is less than 10\u001b[39m\u001b[38;5;124m\"\u001b[39m)\n\u001b[0;32m      3\u001b[0m \u001b[38;5;28;01melif\u001b[39;00m number \u001b[38;5;241m>\u001b[39m \u001b[38;5;241m10\u001b[39m:\n\u001b[1;32m----> 4\u001b[0m     \u001b[38;5;28mprint\u001b[39m(\u001b[38;5;124m\"\u001b[39m\u001b[38;5;124mYour number is greater than 10\u001b[39m\u001b[38;5;124m\"\u001b[39m)\n\u001b[0;32m      5\u001b[0m \u001b[38;5;28;01melse\u001b[39;00m:\n\u001b[0;32m      6\u001b[0m     \u001b[38;5;28mprint\u001b[39m(\u001b[38;5;124m\"\u001b[39m\u001b[38;5;124mYour number is 10\u001b[39m\u001b[38;5;124m\"\u001b[39m)\n",
      "\u001b[1;31mTypeError\u001b[0m: 'tuple' object is not callable"
     ]
    }
   ],
   "source": [
    "if number < 10:\n",
    "    print(\"Your number is less than 10\")\n",
    "elif number > 10:\n",
    "    print(\"Your number is greater than 10\")\n",
    "else:\n",
    "    print(\"Your number is 10\")"
   ]
  },
  {
   "cell_type": "code",
   "execution_count": null,
   "id": "00b3c7c1-8dd7-471f-8c50-2471b4122875",
   "metadata": {},
   "outputs": [],
   "source": [
    "\n"
   ]
  }
 ],
 "metadata": {
  "kernelspec": {
   "display_name": "Python 3 (ipykernel)",
   "language": "python",
   "name": "python3"
  },
  "language_info": {
   "codemirror_mode": {
    "name": "ipython",
    "version": 3
   },
   "file_extension": ".py",
   "mimetype": "text/x-python",
   "name": "python",
   "nbconvert_exporter": "python",
   "pygments_lexer": "ipython3",
   "version": "3.11.7"
  }
 },
 "nbformat": 4,
 "nbformat_minor": 5
}
